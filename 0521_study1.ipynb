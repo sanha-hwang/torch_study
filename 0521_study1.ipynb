{
 "cells": [
  {
   "cell_type": "code",
   "execution_count": 2,
   "metadata": {},
   "outputs": [],
   "source": [
    "from __future__ import print_function\n",
    "import torch\n"
   ]
  },
  {
   "cell_type": "markdown",
   "metadata": {},
   "source": [
    "# torch 기본 생성"
   ]
  },
  {
   "cell_type": "code",
   "execution_count": 10,
   "metadata": {},
   "outputs": [
    {
     "name": "stdout",
     "output_type": "stream",
     "text": [
      "tensor([[0.7617, 0.3610, 0.4390, 0.1208, 0.5391],\n",
      "        [0.1070, 0.5742, 0.7208, 0.8445, 0.2333],\n",
      "        [0.1528, 0.4258, 0.0697, 0.4005, 0.6472],\n",
      "        [0.3435, 0.6814, 0.3156, 0.8855, 0.4930],\n",
      "        [0.3262, 0.4706, 0.8788, 0.8595, 0.1865]]) torch.float32\n"
     ]
    }
   ],
   "source": [
    "# 초기화 되지 않은 행렬 생성\n",
    "x = torch.empty(5,5)\n",
    "print(x, x.dtype)"
   ]
  },
  {
   "cell_type": "code",
   "execution_count": 9,
   "metadata": {},
   "outputs": [
    {
     "name": "stdout",
     "output_type": "stream",
     "text": [
      "tensor([[0.4921, 0.8293, 0.8212, 0.0756, 0.2730],\n",
      "        [0.9631, 0.1153, 0.6156, 0.2329, 0.0657],\n",
      "        [0.4595, 0.9901, 0.0191, 0.1991, 0.2946],\n",
      "        [0.0486, 0.2345, 0.5988, 0.3047, 0.8554],\n",
      "        [0.8573, 0.2344, 0.1344, 0.3123, 0.5410]]) torch.float32\n"
     ]
    }
   ],
   "source": [
    "#  랜덤수로 초기화 된 행렬 생성, 기본적으로 float32 타입으로 생성\n",
    "x = torch.rand(5,5)\n",
    "print(x, x.dtype)"
   ]
  },
  {
   "cell_type": "code",
   "execution_count": 13,
   "metadata": {},
   "outputs": [
    {
     "name": "stdout",
     "output_type": "stream",
     "text": [
      "tensor([[0, 0, 0, 0, 0],\n",
      "        [0, 0, 0, 0, 0],\n",
      "        [0, 0, 0, 0, 0],\n",
      "        [0, 0, 0, 0, 0],\n",
      "        [0, 0, 0, 0, 0]]) torch.int64\n"
     ]
    }
   ],
   "source": [
    "# data type을 long 형식으로 생성, long -> torch.int64, int -> torch.int32 ////// int16, int 32, int64\n",
    "x = torch.zeros(5,5, dtype= torch.long)\n",
    "print(x, x.dtype)\n"
   ]
  },
  {
   "cell_type": "code",
   "execution_count": 17,
   "metadata": {},
   "outputs": [
    {
     "name": "stdout",
     "output_type": "stream",
     "text": [
      "tensor([[5, 6, 7],\n",
      "        [1, 2, 3]]) torch.int64\n"
     ]
    }
   ],
   "source": [
    "# data를 직접 집어넣어 텐서 생성 -> int64\n",
    "\n",
    "x = torch.tensor([[5, 6, 7],[1,2,3]])\n",
    "print(x, x.dtype)"
   ]
  },
  {
   "cell_type": "code",
   "execution_count": 21,
   "metadata": {},
   "outputs": [
    {
     "name": "stdout",
     "output_type": "stream",
     "text": [
      "tensor([[1., 1., 1., 1., 1.],\n",
      "        [1., 1., 1., 1., 1.],\n",
      "        [1., 1., 1., 1., 1.],\n",
      "        [1., 1., 1., 1., 1.],\n",
      "        [1., 1., 1., 1., 1.]], dtype=torch.float64)\n",
      "tensor([[1.9789e-01, 6.8300e-01, 7.8244e-01, 7.5881e-01, 6.3583e-01],\n",
      "        [6.7020e-01, 3.4224e-01, 3.5679e-01, 6.5374e-01, 2.1664e-01],\n",
      "        [4.6754e-01, 3.5926e-01, 9.0216e-01, 9.4597e-02, 2.0020e-01],\n",
      "        [4.1849e-01, 7.4751e-01, 1.3953e-04, 1.6600e-01, 2.6895e-01],\n",
      "        [7.3840e-01, 3.1949e-01, 6.0653e-01, 6.9459e-01, 4.5781e-01]]) torch.float32\n"
     ]
    }
   ],
   "source": [
    "# 사이즈를 받아서 값을 1로 생성 double -> float64\n",
    "x = x.new_ones(5, 5, dtype = torch.double)\n",
    "print(x)\n",
    "\n",
    "## x의 사이즈 받아서 텐서 생성\n",
    "x = torch.rand_like(x, dtype = torch.float)\n",
    "print(x, x.dtype)\n"
   ]
  },
  {
   "cell_type": "code",
   "execution_count": 23,
   "metadata": {},
   "outputs": [
    {
     "name": "stdout",
     "output_type": "stream",
     "text": [
      "torch.Size([5, 5])\n"
     ]
    }
   ],
   "source": [
    "print(x.size())"
   ]
  },
  {
   "cell_type": "code",
   "execution_count": 32,
   "metadata": {},
   "outputs": [
    {
     "name": "stdout",
     "output_type": "stream",
     "text": [
      "tensor([[0.7606, 0.1561, 0.0461, 0.5562, 0.1554],\n",
      "        [0.7151, 0.7788, 0.7505, 0.0067, 0.7508],\n",
      "        [0.1899, 0.9431, 0.4679, 0.1143, 0.3417],\n",
      "        [0.0802, 0.5097, 0.8803, 0.8896, 0.0551],\n",
      "        [0.6617, 0.8991, 0.2596, 0.0998, 0.4432]]) torch.float32\n",
      "\n",
      "\n",
      "tensor([[0.9585, 0.8391, 0.8286, 1.3150, 0.7913],\n",
      "        [1.3853, 1.1210, 1.1073, 0.6604, 0.9675],\n",
      "        [0.6574, 1.3023, 1.3701, 0.2089, 0.5419],\n",
      "        [0.4987, 1.2572, 0.8804, 1.0556, 0.3240],\n",
      "        [1.4001, 1.2185, 0.8662, 0.7944, 0.9011]])\n",
      "\n",
      "\n",
      "tensor([[0.9585, 0.8391, 0.8286, 1.3150, 0.7913],\n",
      "        [1.3853, 1.1210, 1.1073, 0.6604, 0.9675],\n",
      "        [0.6574, 1.3023, 1.3701, 0.2089, 0.5419],\n",
      "        [0.4987, 1.2572, 0.8804, 1.0556, 0.3240],\n",
      "        [1.4001, 1.2185, 0.8662, 0.7944, 0.9011]])\n"
     ]
    }
   ],
   "source": [
    "## 텐서 연산도 가능\n",
    "\n",
    "y = torch.rand(5,5)\n",
    "print(y, y.dtype)\n",
    "print(\"\\n\")\n",
    "print(x+ y)\n",
    "print(\"\\n\")\n",
    "print(torch.add(x,y))"
   ]
  },
  {
   "cell_type": "code",
   "execution_count": 33,
   "metadata": {},
   "outputs": [
    {
     "name": "stdout",
     "output_type": "stream",
     "text": [
      "tensor([[0.9585, 0.8391, 0.8286, 1.3150, 0.7913],\n",
      "        [1.3853, 1.1210, 1.1073, 0.6604, 0.9675],\n",
      "        [0.6574, 1.3023, 1.3701, 0.2089, 0.5419],\n",
      "        [0.4987, 1.2572, 0.8804, 1.0556, 0.3240],\n",
      "        [1.4001, 1.2185, 0.8662, 0.7944, 0.9011]])\n"
     ]
    }
   ],
   "source": [
    "## 연산 결과를 인자로 output, but 빈 공간은 생선해놓아야함\n",
    "\n",
    "result = torch.empty(5,5)\n",
    "torch.add(x,y, out = result)\n",
    "print(result)\n"
   ]
  },
  {
   "cell_type": "code",
   "execution_count": 34,
   "metadata": {},
   "outputs": [
    {
     "name": "stdout",
     "output_type": "stream",
     "text": [
      "tensor([[0.9585, 0.8391, 0.8286, 1.3150, 0.7913],\n",
      "        [1.3853, 1.1210, 1.1073, 0.6604, 0.9675],\n",
      "        [0.6574, 1.3023, 1.3701, 0.2089, 0.5419],\n",
      "        [0.4987, 1.2572, 0.8804, 1.0556, 0.3240],\n",
      "        [1.4001, 1.2185, 0.8662, 0.7944, 0.9011]])\n"
     ]
    }
   ],
   "source": [
    "## in_place 함수를 이용하여 연산 값으로 업데이트 할 수 있음\n",
    "y.add_(x)\n",
    "print(y)"
   ]
  },
  {
   "cell_type": "code",
   "execution_count": 36,
   "metadata": {},
   "outputs": [
    {
     "name": "stdout",
     "output_type": "stream",
     "text": [
      "tensor([1.3150, 0.6604, 0.2089, 1.0556, 0.7944])\n"
     ]
    }
   ],
   "source": [
    "## numpy 처럼 인덱싱 가능\n",
    "print(y[:,3])"
   ]
  },
  {
   "cell_type": "code",
   "execution_count": 39,
   "metadata": {},
   "outputs": [
    {
     "name": "stdout",
     "output_type": "stream",
     "text": [
      "tensor([0.9585, 0.8391, 0.8286, 1.3150, 0.7913, 1.3853, 1.1210, 1.1073, 0.6604,\n",
      "        0.9675, 0.6574, 1.3023, 1.3701, 0.2089, 0.5419, 0.4987, 1.2572, 0.8804,\n",
      "        1.0556, 0.3240, 1.4001, 1.2185, 0.8662, 0.7944, 0.9011]) torch.Size([25])\n",
      "\n",
      "\n",
      "tensor([[0.9585, 0.8391, 0.8286, 1.3150, 0.7913, 1.3853, 1.1210, 1.1073, 0.6604,\n",
      "         0.9675, 0.6574, 1.3023, 1.3701, 0.2089, 0.5419, 0.4987, 1.2572, 0.8804,\n",
      "         1.0556, 0.3240, 1.4001, 1.2185, 0.8662, 0.7944, 0.9011]]) torch.Size([1, 25])\n"
     ]
    }
   ],
   "source": [
    "## torch.view로  tensor의 resize/ reshape가능\n",
    "\n",
    "y1 = y.view(25)\n",
    "y2 = y.view(-1,25) ## -1로 차원 유지\n",
    "\n",
    "print(y1, y1.size())\n",
    "print(\"\\n\")\n",
    "print(y2, y2.size())"
   ]
  },
  {
   "cell_type": "code",
   "execution_count": 47,
   "metadata": {},
   "outputs": [
    {
     "name": "stdout",
     "output_type": "stream",
     "text": [
      "tensor([0.7100, 0.3168, 1.6223])\n",
      "0.3168359696865082\n"
     ]
    }
   ],
   "source": [
    "## item() 으로 텐서의 숫자값을 가져올 수 있음 \n",
    "## torch.rand vs torch.randn -> randn의 경우 표준 정규분포를 따르는 랜덤 값을 반환함\n",
    "x1 = torch.randn(3)\n",
    "print(x1)\n",
    "print(x1[1].item())"
   ]
  },
  {
   "cell_type": "markdown",
   "metadata": {},
   "source": [
    "# torch와 numpy 호환 생성"
   ]
  },
  {
   "cell_type": "code",
   "execution_count": 48,
   "metadata": {},
   "outputs": [],
   "source": [
    "import numpy as np"
   ]
  },
  {
   "cell_type": "code",
   "execution_count": 54,
   "metadata": {},
   "outputs": [
    {
     "name": "stdout",
     "output_type": "stream",
     "text": [
      "tensor([[1., 1.],\n",
      "        [1., 1.]]) torch.float32\n",
      "\n",
      "\n",
      "[[1. 1.]\n",
      " [1. 1.]] float32\n"
     ]
    }
   ],
   "source": [
    "## torch -> numpy , \n",
    "x = torch.ones(2,2)\n",
    "print(x, x.dtype)\n",
    "print(\"\\n\")\n",
    "x1 = x.numpy()\n",
    "print(x1, x1.dtype)"
   ]
  },
  {
   "cell_type": "code",
   "execution_count": 55,
   "metadata": {},
   "outputs": [
    {
     "name": "stdout",
     "output_type": "stream",
     "text": [
      "tensor([[4., 4.],\n",
      "        [4., 4.]])\n",
      "\n",
      "\n",
      "[[4. 4.]\n",
      " [4. 4.]]\n"
     ]
    }
   ],
   "source": [
    "## torch가 cpu라면 numpy array와 메모리 공간을 공유 -> 충격적..\n",
    "\n",
    "x.add_(3)\n",
    "print(x)\n",
    "print(\"\\n\")\n",
    "print(x1)"
   ]
  },
  {
   "cell_type": "code",
   "execution_count": 60,
   "metadata": {},
   "outputs": [
    {
     "name": "stdout",
     "output_type": "stream",
     "text": [
      "[[1. 1.]\n",
      " [1. 1.]]\n",
      "\n",
      "\n",
      "tensor([[1., 1.],\n",
      "        [1., 1.]], dtype=torch.float64)\n",
      "[[2. 2.]\n",
      " [2. 2.]]\n",
      "tensor([[2., 2.],\n",
      "        [2., 2.]], dtype=torch.float64)\n"
     ]
    }
   ],
   "source": [
    "# numpy array -> tensor, 역시나 numpy에 연산해도 tensor도 같이 바뀜, 메모리를 공유하기 때문\n",
    "y = np.ones((2,2))\n",
    "print(y)\n",
    "print(\"\\n\")\n",
    "y1 = torch.from_numpy(y)\n",
    "print(y1)\n",
    "np.add(y, 1, out= y)\n",
    "print(y)\n",
    "print(y1)"
   ]
  },
  {
   "cell_type": "code",
   "execution_count": null,
   "metadata": {},
   "outputs": [],
   "source": [
    "'''\n",
    "만약 cuda gpu가 있다면 다음 코드도 가능\n",
    "\n",
    "# .to를 사용하여 객체를 장치로 이동시킬 수 있음\n",
    "\n",
    "if torch.cuda.is_available():\n",
    "    device_gpu = torch.device(\"cuda\") ## cuda 장치 객체 생성\n",
    "    y = torch.ones_like(y1, device = device_gpu)\n",
    "    y = y.to(device_gpu)\n",
    "\n",
    "    z = x + y\n",
    "    print(z)\n",
    "    print(z.to(\"cpu\",torch.double))\n",
    "\n",
    "'''"
   ]
  }
 ],
 "metadata": {
  "interpreter": {
   "hash": "e109f7d8196a6ddeca6f4bd2c070d7ec740711555ec16900918c0063008ddbb6"
  },
  "kernelspec": {
   "display_name": "Python 3.8.13 ('newenv')",
   "language": "python",
   "name": "python3"
  },
  "language_info": {
   "codemirror_mode": {
    "name": "ipython",
    "version": 3
   },
   "file_extension": ".py",
   "mimetype": "text/x-python",
   "name": "python",
   "nbconvert_exporter": "python",
   "pygments_lexer": "ipython3",
   "version": "3.8.13"
  },
  "orig_nbformat": 4
 },
 "nbformat": 4,
 "nbformat_minor": 2
}
