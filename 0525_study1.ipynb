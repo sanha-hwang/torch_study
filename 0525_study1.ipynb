{
 "cells": [
  {
   "cell_type": "markdown",
   "metadata": {},
   "source": [
    "# torch.nn.functional 사용하여 신경망 구축하기"
   ]
  },
  {
   "cell_type": "code",
   "execution_count": 2,
   "metadata": {},
   "outputs": [],
   "source": [
    "import torch\n",
    "from torch import nn\n",
    "import math\n",
    "import torch.nn.functional as F\n",
    "\n",
    "\n",
    "class Mnist_Logistic(nn.Module):\n",
    "    def __init__(self):\n",
    "        super().__init__()\n",
    "        self.weights = nn.Parameter(torch.randn(784, 10) / math.sqrt(784))\n",
    "        self.bias = nn.Parameter(torch.zeros(10))\n",
    "\n",
    "    def forward(self, xb):\n",
    "        return xb @ self.weights + self.bias"
   ]
  },
  {
   "cell_type": "code",
   "execution_count": 3,
   "metadata": {},
   "outputs": [],
   "source": [
    "model = Mnist_Logistic()\n"
   ]
  },
  {
   "cell_type": "code",
   "execution_count": 5,
   "metadata": {},
   "outputs": [],
   "source": [
    "from pathlib import Path\n",
    "import requests\n",
    "\n",
    "DATA_PATH = Path('data')\n",
    "PATH = DATA_PATH / 'mnist'\n",
    "\n",
    "PATH.mkdir(parents=True, exist_ok=True)\n",
    "\n",
    "URL = 'https://github.com/pytorch/tutorials/raw/master/_static/'\n",
    "FILENAME = 'mnist.pkl.gz'\n",
    "\n",
    "if not (PATH / FILENAME).exists():\n",
    "    content = requests.get(URL + FILENAME).content\n",
    "    (PATH / FILENAME).open('wb').write(content)"
   ]
  },
  {
   "cell_type": "code",
   "execution_count": 6,
   "metadata": {},
   "outputs": [],
   "source": [
    "import pickle\n",
    "import gzip\n",
    "\n",
    "with gzip.open((PATH / FILENAME).as_posix(), 'rb') as f:\n",
    "        ((x_train, y_train), (x_valid, y_valid), _) = pickle.load(f,\n",
    "encoding='latin-1')"
   ]
  },
  {
   "cell_type": "code",
   "execution_count": 7,
   "metadata": {},
   "outputs": [
    {
     "name": "stdout",
     "output_type": "stream",
     "text": [
      "(50000, 784)\n"
     ]
    },
    {
     "data": {
      "image/png": "[encoded data removed]",
      "text/plain": [
       "<Figure size 432x288 with 1 Axes>"
      ]
     },
     "metadata": {
      "needs_background": "light"
     },
     "output_type": "display_data"
    }
   ],
   "source": [
    "from matplotlib import pyplot\n",
    "import numpy as np\n",
    "\n",
    "pyplot.imshow(x_train[0].reshape((28, 28)), cmap='gray')\n",
    "print(x_train.shape) ## 28x28 이미지가 펼쳐서 784 하나의 행으로 이루어진 것을 알 수 있음"
   ]
  },
  {
   "cell_type": "code",
   "execution_count": 8,
   "metadata": {},
   "outputs": [
    {
     "name": "stdout",
     "output_type": "stream",
     "text": [
      "tensor([[0., 0., 0.,  ..., 0., 0., 0.],\n",
      "        [0., 0., 0.,  ..., 0., 0., 0.],\n",
      "        [0., 0., 0.,  ..., 0., 0., 0.],\n",
      "        ...,\n",
      "        [0., 0., 0.,  ..., 0., 0., 0.],\n",
      "        [0., 0., 0.,  ..., 0., 0., 0.],\n",
      "        [0., 0., 0.,  ..., 0., 0., 0.]]) tensor([5, 0, 4,  ..., 8, 4, 8])\n",
      "torch.Size([50000, 784])\n",
      "tensor(0) tensor(9)\n"
     ]
    }
   ],
   "source": [
    "import torch\n",
    "\n",
    "x_train, y_train, x_valid, y_valid = map(\n",
    "    torch.tensor, (x_train, y_train, x_valid, y_valid)\n",
    ")\n",
    "n, c = x_train.shape\n",
    "x_train, x_train.shape, y_train.min(), y_train.max()\n",
    "print(x_train, y_train)\n",
    "print(x_train.shape)\n",
    "print(y_train.min(), y_train.max())"
   ]
  },
  {
   "cell_type": "code",
   "execution_count": 12,
   "metadata": {},
   "outputs": [
    {
     "name": "stdout",
     "output_type": "stream",
     "text": [
      "tensor([ 0.3492,  0.4201, -0.3532,  0.1815, -0.0714, -0.1640, -0.3307,  0.1231,\n",
      "        -0.1327, -0.5911], grad_fn=<SelectBackward0>) torch.Size([64, 10])\n"
     ]
    }
   ],
   "source": [
    "bs = 64 # 배치 사이즈\n",
    "\n",
    "xb = x_train[0:bs] # x로부터 미니배치 설정\n",
    "preds = model(xb) # 예측\n",
    "preds[0], preds.shape\n",
    "print(preds[0], preds.shape)\n",
    "\n",
    "yb = y_train[0:bs]\n"
   ]
  },
  {
   "cell_type": "code",
   "execution_count": 13,
   "metadata": {},
   "outputs": [],
   "source": [
    "import torch.nn.functional as F\n",
    "\n",
    "loss_func = F.cross_entropy"
   ]
  },
  {
   "cell_type": "code",
   "execution_count": 14,
   "metadata": {},
   "outputs": [
    {
     "name": "stdout",
     "output_type": "stream",
     "text": [
      "tensor(2.3757, grad_fn=<NllLossBackward0>)\n"
     ]
    }
   ],
   "source": [
    "print(loss_func(model(xb), yb))"
   ]
  },
  {
   "cell_type": "code",
   "execution_count": 16,
   "metadata": {},
   "outputs": [],
   "source": [
    "epochs = 10\n",
    "lr = 0.0001\n",
    "def fit():\n",
    "    for epoch in range(epochs):\n",
    "        for i in range((n - 1) // bs + 1):\n",
    "            start_i = i * bs\n",
    "            end_i = start_i + bs\n",
    "            xb = x_train[start_i:end_i]\n",
    "            yb = y_train[start_i:end_i]\n",
    "            pred = model(xb)\n",
    "            loss = loss_func(pred, yb)\n",
    "            \n",
    "            loss.backward()\n",
    "            with torch.no_grad():\n",
    "                for p in model.parameters():\n",
    "                    p -= p.grad * lr\n",
    "                model.zero_grad()\n",
    "                \n",
    "fit()"
   ]
  },
  {
   "cell_type": "code",
   "execution_count": 17,
   "metadata": {},
   "outputs": [
    {
     "name": "stdout",
     "output_type": "stream",
     "text": [
      "tensor(1.7248, grad_fn=<NllLossBackward0>)\n"
     ]
    }
   ],
   "source": [
    "print(loss_func(model(xb), yb))"
   ]
  },
  {
   "cell_type": "markdown",
   "metadata": {},
   "source": [
    "# nn.linear을 통해 weight와 bias 계산을 해줌"
   ]
  },
  {
   "cell_type": "code",
   "execution_count": 18,
   "metadata": {},
   "outputs": [],
   "source": [
    "class Mnist_Logistic(nn.Module):\n",
    "    def __init__(self):\n",
    "        super().__init__()\n",
    "        self.lin = nn.Linear(784, 10)\n",
    "\n",
    "    def forward(self, xb):\n",
    "        return self.lin(xb)"
   ]
  },
  {
   "cell_type": "code",
   "execution_count": 19,
   "metadata": {},
   "outputs": [
    {
     "name": "stdout",
     "output_type": "stream",
     "text": [
      "tensor(2.3340, grad_fn=<NllLossBackward0>)\n"
     ]
    }
   ],
   "source": [
    "model = Mnist_Logistic()\n",
    "print(loss_func(model(xb), yb))"
   ]
  },
  {
   "cell_type": "code",
   "execution_count": 20,
   "metadata": {},
   "outputs": [
    {
     "name": "stdout",
     "output_type": "stream",
     "text": [
      "tensor(1.6810, grad_fn=<NllLossBackward0>)\n"
     ]
    }
   ],
   "source": [
    "fit()\n",
    "\n",
    "print(loss_func(model(xb), yb))"
   ]
  },
  {
   "cell_type": "markdown",
   "metadata": {},
   "source": [
    "# pytorch의 최적화 알고리즘은 torch.optim 패키지에 존재"
   ]
  },
  {
   "cell_type": "code",
   "execution_count": 23,
   "metadata": {},
   "outputs": [
    {
     "name": "stdout",
     "output_type": "stream",
     "text": [
      "tensor(2.3680, grad_fn=<NllLossBackward0>)\n",
      "tensor(1.3290, grad_fn=<NllLossBackward0>)\n"
     ]
    }
   ],
   "source": [
    "from torch import optim\n",
    "\n",
    "def get_model():\n",
    "    model = Mnist_Logistic()\n",
    "    return model, optim.SGD(model.parameters(), lr = lr)\n",
    "\n",
    "model, opt = get_model()\n",
    "epochs = 50\n",
    "\n",
    "\n",
    "print(loss_func(model(xb), yb))\n",
    "\n",
    "for epoch in range(epochs):\n",
    "    for i in range((n - 1) // bs + 1):\n",
    "        start_i = i * bs\n",
    "        end_i = start_i + bs\n",
    "        xb = x_train[start_i:end_i]\n",
    "        yb = y_train[start_i:end_i]\n",
    "\n",
    "        pred = model(xb)\n",
    "        loss = loss_func(pred, yb)\n",
    "\n",
    "        loss.backward()\n",
    "        opt.step()\n",
    "        opt.zero_grad()\n",
    "\n",
    "print(loss_func(model(xb), yb))\n"
   ]
  },
  {
   "cell_type": "markdown",
   "metadata": {},
   "source": [
    "# Dataset을 사용해서 재구성하기\n"
   ]
  },
  {
   "cell_type": "code",
   "execution_count": 24,
   "metadata": {},
   "outputs": [],
   "source": [
    "\n",
    "from torch.utils.data import TensorDataset"
   ]
  },
  {
   "cell_type": "code",
   "execution_count": 25,
   "metadata": {},
   "outputs": [],
   "source": [
    "train_ds = TensorDataset(x_train, y_train)\n"
   ]
  },
  {
   "cell_type": "code",
   "execution_count": 26,
   "metadata": {},
   "outputs": [
    {
     "name": "stdout",
     "output_type": "stream",
     "text": [
      "tensor(1.3446, grad_fn=<NllLossBackward0>)\n"
     ]
    }
   ],
   "source": [
    "model, opt = get_model()\n",
    "\n",
    "for epoch in range(epochs):\n",
    "    for i in range((n -1) // bs + 1):\n",
    "        xb, yb = train_ds[i * bs : i *bs + bs]\n",
    "        pred = model(xb)\n",
    "        loss = loss_func(pred, yb)\n",
    "\n",
    "        loss.backward()\n",
    "        opt.step()\n",
    "        opt.zero_grad()\n",
    "\n",
    "print(loss_func(model(xb), yb))"
   ]
  },
  {
   "cell_type": "markdown",
   "metadata": {},
   "source": [
    "# DataLoader를 사용하여 batch사이즈만큼 데이터 출력"
   ]
  },
  {
   "cell_type": "code",
   "execution_count": 27,
   "metadata": {},
   "outputs": [],
   "source": [
    "from torch.utils.data import DataLoader\n",
    "\n",
    "train_ds = TensorDataset(x_train, y_train)\n",
    "train_dl = DataLoader(train_ds, batch_size = bs)\n",
    "\n"
   ]
  },
  {
   "cell_type": "code",
   "execution_count": 28,
   "metadata": {},
   "outputs": [
    {
     "name": "stdout",
     "output_type": "stream",
     "text": [
      "tensor(1.3182, grad_fn=<NllLossBackward0>)\n"
     ]
    }
   ],
   "source": [
    "model , opt = get_model()\n",
    "\n",
    "for epoch in range(epochs):\n",
    "    for xb, yb in train_dl:\n",
    "        pred = model(xb)\n",
    "        loss = loss_func(pred, yb)\n",
    "        loss.backward()\n",
    "\n",
    "        opt.step()\n",
    "        opt.zero_grad()\n",
    "\n",
    "print(loss_func(model(xb), yb))"
   ]
  },
  {
   "cell_type": "markdown",
   "metadata": {},
   "source": [
    "# 검증 데이터 활용"
   ]
  },
  {
   "cell_type": "code",
   "execution_count": 31,
   "metadata": {},
   "outputs": [],
   "source": [
    "train_ds =TensorDataset(x_train, y_train)\n",
    "train_dl = DataLoader(train_ds, batch_size = bs, shuffle= True)\n",
    "\n",
    "valid_ds = TensorDataset(x_valid, y_valid)\n",
    "valid_dl = DataLoader(valid_ds, batch_size=bs * 2)"
   ]
  },
  {
   "cell_type": "code",
   "execution_count": 33,
   "metadata": {},
   "outputs": [
    {
     "name": "stdout",
     "output_type": "stream",
     "text": [
      "0 epoch : loss 2.2519164085388184\n",
      "1 epoch : loss 2.169987440109253\n",
      "2 epoch : loss 2.0944440364837646\n",
      "3 epoch : loss 2.0240797996520996\n",
      "4 epoch : loss 1.958151936531067\n",
      "5 epoch : loss 1.8961726427078247\n",
      "6 epoch : loss 1.8377878665924072\n",
      "7 epoch : loss 1.7827188968658447\n",
      "8 epoch : loss 1.7307720184326172\n",
      "9 epoch : loss 1.6817128658294678\n",
      "10 epoch : loss 1.6353696584701538\n",
      "11 epoch : loss 1.5916073322296143\n",
      "12 epoch : loss 1.5502383708953857\n",
      "13 epoch : loss 1.5111238956451416\n",
      "14 epoch : loss 1.4741274118423462\n",
      "15 epoch : loss 1.4391095638275146\n",
      "16 epoch : loss 1.405942678451538\n",
      "17 epoch : loss 1.3745113611221313\n",
      "18 epoch : loss 1.3447117805480957\n",
      "19 epoch : loss 1.3164241313934326\n",
      "20 epoch : loss 1.289560317993164\n",
      "21 epoch : loss 1.2640371322631836\n",
      "22 epoch : loss 1.2397592067718506\n",
      "23 epoch : loss 1.2166399955749512\n",
      "24 epoch : loss 1.1946154832839966\n",
      "25 epoch : loss 1.1736127138137817\n",
      "26 epoch : loss 1.153568148612976\n",
      "27 epoch : loss 1.134425401687622\n",
      "28 epoch : loss 1.1161283254623413\n",
      "29 epoch : loss 1.0986287593841553\n",
      "30 epoch : loss 1.0818802118301392\n",
      "31 epoch : loss 1.0658291578292847\n",
      "32 epoch : loss 1.0504401922225952\n",
      "33 epoch : loss 1.0356746912002563\n",
      "34 epoch : loss 1.021500587463379\n",
      "35 epoch : loss 1.0078788995742798\n",
      "36 epoch : loss 0.9947848916053772\n",
      "37 epoch : loss 0.9821855425834656\n",
      "38 epoch : loss 0.9700554013252258\n",
      "39 epoch : loss 0.9583631157875061\n",
      "40 epoch : loss 0.9470949769020081\n",
      "41 epoch : loss 0.936227560043335\n",
      "42 epoch : loss 0.9257352948188782\n",
      "43 epoch : loss 0.9156047701835632\n",
      "44 epoch : loss 0.9058146476745605\n",
      "45 epoch : loss 0.8963509202003479\n",
      "46 epoch : loss 0.8871997594833374\n",
      "47 epoch : loss 0.8783400058746338\n",
      "48 epoch : loss 0.8697578310966492\n",
      "49 epoch : loss 0.8614436388015747\n"
     ]
    }
   ],
   "source": [
    "model, opt = get_model()\n",
    "\n",
    "for epoch in range(epochs):\n",
    "    model.train() ## model 학습할거다 선언 같은거\n",
    "    for xb, yb in train_dl:\n",
    "        pred = model(xb)\n",
    "        loss = loss_func(pred, yb)\n",
    "\n",
    "        loss.backward()\n",
    "        opt.step()\n",
    "        opt.zero_grad()\n",
    "\n",
    "    model.eval() ## model 평가할거다\n",
    "    with torch.no_grad(): ## 역전파 안할거니까 메모리에 가중치 기록안해도대\n",
    "        valid_loss = sum(loss_func(model(xb), yb) for xb, yb in valid_dl)\n",
    "\n",
    "    print(\"{} epoch : loss {}\".format(epoch, valid_loss / len(valid_dl)))"
   ]
  },
  {
   "cell_type": "markdown",
   "metadata": {},
   "source": [
    "# fit(), get_data() 생성하여 loss를 두번이나 계산하는 부분 정리, 간결한 코드 작성"
   ]
  },
  {
   "cell_type": "code",
   "execution_count": 45,
   "metadata": {},
   "outputs": [],
   "source": [
    "def loss_batch(model, loss_func, xb, yb, opt=None): ## 검증 셋에 대해서는 opt를 전달하지 않는다\n",
    "    loss = loss_func(model(xb), yb)\n",
    "\n",
    "    if opt is not None:\n",
    "        loss.backward()\n",
    "        opt.step()\n",
    "        opt.zero_grad()\n",
    "\n",
    "    return loss.item(), len(xb)"
   ]
  },
  {
   "cell_type": "code",
   "execution_count": 46,
   "metadata": {},
   "outputs": [],
   "source": [
    "import numpy as np\n",
    "\n",
    "def fit(epochs, model, loss_func, opt, train_dl, valid_dl):\n",
    "    for epoch in range(epochs):\n",
    "        model.train()\n",
    "\n",
    "        for xb, yb in train_dl:\n",
    "            loss_batch(model, loss_func, xb, yb, opt)\n",
    "\n",
    "        model.eval()\n",
    "        with torch.no_grad():\n",
    "            losses, nums = zip(*[loss_batch(model, loss_func, xb, yb) for xb, yb in valid_dl])\n",
    "\n",
    "        val_loss = np.sum(np.multiply(losses, nums)) / np.sum(nums)\n",
    "        print(\"{} epoch, val loss : {}\".format(epoch, val_loss))    \n"
   ]
  },
  {
   "cell_type": "code",
   "execution_count": 47,
   "metadata": {},
   "outputs": [],
   "source": [
    "def get_data(train_ds, valid_ds, bs):\n",
    "    return (\n",
    "        DataLoader(train_ds, batch_size=bs, shuffle= True),\n",
    "        DataLoader(valid_ds, batch_size=bs * 2)\n",
    "    )"
   ]
  },
  {
   "cell_type": "code",
   "execution_count": 48,
   "metadata": {},
   "outputs": [
    {
     "name": "stdout",
     "output_type": "stream",
     "text": [
      "0 epoch, val loss : 2.187267266845703\n",
      "1 epoch, val loss : 2.109177949142456\n",
      "2 epoch, val loss : 2.0372276927948\n",
      "3 epoch, val loss : 1.9701565540313721\n",
      "4 epoch, val loss : 1.9072999883651733\n",
      "5 epoch, val loss : 1.8481884267807007\n",
      "6 epoch, val loss : 1.792496614265442\n",
      "7 epoch, val loss : 1.7399691598892213\n",
      "8 epoch, val loss : 1.6904027557373047\n",
      "9 epoch, val loss : 1.64359280128479\n",
      "10 epoch, val loss : 1.5993885486602784\n",
      "11 epoch, val loss : 1.5576306970596314\n",
      "12 epoch, val loss : 1.518146385574341\n",
      "13 epoch, val loss : 1.4808191974639893\n",
      "14 epoch, val loss : 1.4454995399475097\n",
      "15 epoch, val loss : 1.4120672706604005\n",
      "16 epoch, val loss : 1.3803984497070312\n",
      "17 epoch, val loss : 1.3503790031433105\n",
      "18 epoch, val loss : 1.3218984251022339\n",
      "19 epoch, val loss : 1.2948610855102538\n",
      "20 epoch, val loss : 1.2691765243530273\n",
      "21 epoch, val loss : 1.244750577735901\n",
      "22 epoch, val loss : 1.221509676361084\n",
      "23 epoch, val loss : 1.199377431678772\n",
      "24 epoch, val loss : 1.1782799522399903\n",
      "25 epoch, val loss : 1.1581466415405273\n",
      "26 epoch, val loss : 1.1389262210845947\n",
      "27 epoch, val loss : 1.120561699104309\n",
      "28 epoch, val loss : 1.103001482963562\n",
      "29 epoch, val loss : 1.0861832681655883\n",
      "30 epoch, val loss : 1.0700855453491211\n",
      "31 epoch, val loss : 1.0546497575759888\n",
      "32 epoch, val loss : 1.0398453256607056\n",
      "33 epoch, val loss : 1.025632859992981\n",
      "34 epoch, val loss : 1.0119754169464112\n",
      "35 epoch, val loss : 0.9988468854904174\n",
      "36 epoch, val loss : 0.986216609954834\n",
      "37 epoch, val loss : 0.9740602815628052\n",
      "38 epoch, val loss : 0.962350888633728\n",
      "39 epoch, val loss : 0.9510622200012206\n",
      "40 epoch, val loss : 0.940170956993103\n",
      "41 epoch, val loss : 0.9296658086776733\n",
      "42 epoch, val loss : 0.9195145486831665\n",
      "43 epoch, val loss : 0.9097093214035035\n",
      "44 epoch, val loss : 0.9002293483734131\n",
      "45 epoch, val loss : 0.8910616435050964\n",
      "46 epoch, val loss : 0.8821848950386048\n",
      "47 epoch, val loss : 0.8735943941116333\n",
      "48 epoch, val loss : 0.8652667678833008\n",
      "49 epoch, val loss : 0.8571986154556275\n"
     ]
    }
   ],
   "source": [
    "train_dl, valid_dl = get_data(train_ds, valid_ds, bs)\n",
    "model, opt = get_model()\n",
    "fit(epochs, model, loss_func, opt, train_dl, valid_dl)"
   ]
  },
  {
   "cell_type": "code",
   "execution_count": null,
   "metadata": {},
   "outputs": [],
   "source": []
  }
 ],
 "metadata": {
  "interpreter": {
   "hash": "e109f7d8196a6ddeca6f4bd2c070d7ec740711555ec16900918c0063008ddbb6"
  },
  "kernelspec": {
   "display_name": "Python 3.8.13 ('newenv')",
   "language": "python",
   "name": "python3"
  },
  "language_info": {
   "codemirror_mode": {
    "name": "ipython",
    "version": 3
   },
   "file_extension": ".py",
   "mimetype": "text/x-python",
   "name": "python",
   "nbconvert_exporter": "python",
   "pygments_lexer": "ipython3",
   "version": "3.8.13"
  },
  "orig_nbformat": 4
 },
 "nbformat": 4,
 "nbformat_minor": 2
}
